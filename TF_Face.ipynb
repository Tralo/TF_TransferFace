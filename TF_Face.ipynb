{
 "cells": [
  {
   "cell_type": "code",
   "execution_count": 31,
   "metadata": {
    "collapsed": true
   },
   "outputs": [],
   "source": [
    "import os\n",
    "import tensorflow as tf"
   ]
  },
  {
   "cell_type": "code",
   "execution_count": 32,
   "metadata": {},
   "outputs": [],
   "source": [
    "# 根据目录名浏览图片\n",
    "def get_image_paths(dirctory):\n",
    "    return [x.path for x in os.scandir(dirctory) if x.name.endswith('.jpg') or x.name.endswith('.png')]\n",
    "\n",
    "image_A = get_image_paths('C:\\\\Users\\\\Administrator\\\\Desktop\\\\TF_TransferFace\\\\trump')\n",
    "image_B = get_image_paths('C:\\\\Users\\\\Administrator\\\\Desktop\\\\TF_TransferFace\\\\cage')\n"
   ]
  },
  {
   "cell_type": "code",
   "execution_count": 33,
   "metadata": {},
   "outputs": [
    {
     "name": "stdout",
     "output_type": "stream",
     "text": [
      "376 318\n"
     ]
    }
   ],
   "source": [
    "print(len(image_A), len(image_B))"
   ]
  },
  {
   "cell_type": "code",
   "execution_count": 34,
   "metadata": {},
   "outputs": [
    {
     "name": "stdout",
     "output_type": "stream",
     "text": [
      "(3, 256, 256, 3)\n(3, 256, 256, 3)\n"
     ]
    }
   ],
   "source": [
    "## 导入包 cv2 numpy\n",
    "import cv2\n",
    "import numpy as np\n",
    "# 批量加载图片方法(根据路径集合)\n",
    "def load_images(image_paths):\n",
    "    # 用到cv2 来读取每个路径下的图片，再归入到集合中\n",
    "    iter_images = [cv2.imread(path) for path in image_paths]\n",
    "    # 遍历所有图片，将所有图片整合进一个集合中，该集合的shape 为 (batch, width, height, channels)\n",
    "    for i, image in enumerate(iter_images):\n",
    "        if i == 0:\n",
    "            all_iamges = np.empty((len(image_paths),) + image.shape, dtype=image.dtype)\n",
    "        all_iamges[i] = image\n",
    "    # 返回该集合\n",
    "    return all_iamges\n",
    "\n",
    "trump_images = load_images(image_A[0:3])\n",
    "cage_images = load_images(image_B[0:3])\n",
    "print(trump_images.shape)\n",
    "print(cage_images.shape)\n",
    "\n"
   ]
  },
  {
   "cell_type": "code",
   "execution_count": 35,
   "metadata": {
    "collapsed": true
   },
   "outputs": [
    {
     "data": {
      "image/png": "[encoded data removed]",
      "text/plain": [
       "<Figure size 432x288 with 1 Axes>"
      ]
     },
     "metadata": {},
     "output_type": "display_data"
    }
   ],
   "source": [
    "%matplotlib inline\n",
    "import matplotlib.pyplot as plt\n",
    "# concat 对接成 (6, 256, 256, 3)\n",
    "figure = np.concatenate((trump_images, cage_images), axis=0)\n",
    "# reshape成(2, 3, 256, 256, 3)\n",
    "figure = figure.reshape((2, 3)+ figure.shape[1:])\n",
    "# 这里需要指定利用 cv 的调色板，否则 plt 展示出来会有色差\n",
    "plt.imshow(cv2.cvtColor(figure, cv2.COLOR_BGR2RGB))\n",
    "plt.show()\n"
   ]
  },
  {
   "cell_type": "code",
   "execution_count": 36,
   "metadata": {},
   "outputs": [],
   "source": [
    "# 根据所给的维度长度，告诉调用者哪些维度应该被放入第 0 维度，哪些应该被转换为第 1 维度\n",
    "# 例如 （2,3,256,256,3） 则是第 0 维，第 2 维合在一起，转换成新的图片的第0维（也就是行的个数）\n",
    "# 第 1 维，第 3 维合在一起，转换成新的图片的第1维（也就是列的个数）\n",
    "def get_transpose_axes(n):\n",
    "    # 根据总长度的奇偶性，来制定不同的情况\n",
    "    if n % 2 == 0:\n",
    "        y_axes = list(range(1, n-1, 2))\n",
    "        x_axes = list(range(0, n-1, 2))\n",
    "    else:\n",
    "        y_axes = list(range(0, n-1, 2))\n",
    "        x_axes = list(range(1, n-1, 2))\n",
    "    return y_axes, x_axes, [n-1]\n",
    "\n",
    "\n",
    "# 可以将存储多张图片的多维集合，拼成一张图片\n",
    "def stack_images(images):\n",
    "    images_shape = np.array(images.shape)\n",
    "    # new_axes 得到的是三个列表。[0,2],[1,3],[4] 告诉调用者新集合中的每个维度由旧集合中的哪些维度构成\n",
    "    new_axes = get_transpose_axes(len(images_shape))\n",
    "    new_shape = [np.prod(images_shape[x]) for x in new_axes]\n",
    "    return np.transpose(\n",
    "        images,\n",
    "        axes=np.concatenate(new_axes)\n",
    "    ).reshape(new_shape)"
   ]
  },
  {
   "cell_type": "code",
   "execution_count": 37,
   "metadata": {},
   "outputs": [
    {
     "name": "stderr",
     "output_type": "stream",
     "text": [
      "Using TensorFlow backend.\n"
     ]
    }
   ],
   "source": [
    "# 子像素卷积层，用于上采样\n",
    "# PixelShuffler layer for Keras\n",
    "from keras.utils import conv_utils\n",
    "from keras.engine.topology import Layer\n",
    "import keras.backend as K\n",
    "\n",
    "\n",
    "class PixelShuffler(Layer):\n",
    "    # 初始化 子像素卷积层，并在输入数据时，对数据进行标准化处理。\n",
    "    def __init__(self, size=(2, 2), data_format=None, **kwargs):\n",
    "        super(PixelShuffler, self).__init__(**kwargs)\n",
    "        self.data_format = K.normalize_data_format(data_format)\n",
    "        self.size = conv_utils.normalize_tuple(size, 2, 'size')\n",
    "\n",
    "    def call(self, inputs):\n",
    "        # 根据得到输入层图层 batch_size，h ，w，c 的大小\n",
    "        input_shape = K.int_shape(inputs)\n",
    "        batch_size, h, w, c = input_shape\n",
    "        if batch_size is None:\n",
    "            batch_size = -1\n",
    "        rh, rw = self.size\n",
    "\n",
    "        # 计算转换后的图层大小与通道数\n",
    "        oh, ow = h * rh, w * rw\n",
    "        oc = c // (rh * rw)\n",
    "\n",
    "        # 先将图层分开，并且将每一层装换到自己应该到维度\n",
    "        # 最后再利用一次 reshape 函数（计算机会从外到里的一个个的将数据排下来），这就可以转成指定大小的图层了\n",
    "        out = K.reshape(inputs, (batch_size, h, w, rh, rw, oc))\n",
    "        out = K.permute_dimensions(out, (0, 1, 3, 2, 4, 5))\n",
    "        out = K.reshape(out, (batch_size, oh, ow, oc))\n",
    "        return out\n",
    "\n",
    "    # compute_output_shape()函数用来输出这一层输出尺寸的大小\n",
    "    # 尺寸是根据input_shape以及我们定义的output_shape计算的。\n",
    "    def compute_output_shape(self, input_shape):\n",
    "        height = input_shape[1] * self.size[0] if input_shape[1] is not None else None\n",
    "        width = input_shape[2] * self.size[1]  if input_shape[2] is not None else None\n",
    "        channels = input_shape[3] // self.size[0] // self.size[1]\n",
    "\n",
    "        return (input_shape[0],\n",
    "                height,\n",
    "                width,\n",
    "                channels)\n",
    "\n",
    "    # 设置配置文件\n",
    "    def get_config(self):\n",
    "        config = {'size': self.size,\n",
    "                  'data_format': self.data_format}\n",
    "        base_config = super(PixelShuffler, self).get_config()\n",
    "\n",
    "        return dict(list(base_config.items()) + list(config.items()))"
   ]
  },
  {
   "cell_type": "code",
   "execution_count": 38,
   "metadata": {},
   "outputs": [],
   "source": [
    "from keras.layers.advanced_activations import LeakyReLU\n",
    "from keras.layers.convolutional import Conv2D\n",
    "\n",
    "# 下采样层,filters 为输出图层的通道数\n",
    "# n * n * c -> 0.5n * 0.5n * filters\n",
    "def conv(filters):\n",
    "    def block(x):\n",
    "        # 每一层由一个使图层大小减小一半的卷积层和一个 LeakyReLU 激活函数层构成。\n",
    "        x = Conv2D(filters, kernel_size=5, strides=2, padding='same')(x)\n",
    "        x = LeakyReLU(0.1)(x)\n",
    "        return x\n",
    "    return block\n",
    "\n",
    "# 上采样层，扩大图层大小\n",
    "# 图层的形状变化如下：\n",
    "# n*n*c -> n * n * 4filters -> 2n * 2n * filters\n",
    "def upscale(filters):\n",
    "    # 每一层由一个扩大通道层的卷积，一个激活函数和一个像素洗牌层\n",
    "    def block(x):\n",
    "        # 将通道数扩大为原来的四倍。为了下一步能够通过像素洗牌 使原来的图层扩大两倍\n",
    "        x = Conv2D(filters*4, kernel_size=3, padding='same')(x)\n",
    "        x = LeakyReLU(0.1)(x)\n",
    "        x = PixelShuffler()(x)\n",
    "        return x\n",
    "    return block"
   ]
  },
  {
   "cell_type": "code",
   "execution_count": 40,
   "metadata": {},
   "outputs": [
    {
     "name": "stdout",
     "output_type": "stream",
     "text": [
      "将大小为 (3, 256, 256, 3) 的图片传入 filters 为 126 的下采样层中得到大小为 (3, 128, 128, 126) 的图层。\n将大小为 (3, 128, 128, 126) 的图层传入 filters 为  3  的上采样层中得到大小为 (3, 256, 256, 3) 的图片。\n"
     ]
    }
   ],
   "source": [
    "import tensorflow as tf\n",
    "# 将原图片转为 Tensor 类型\n",
    "x1 = tf.convert_to_tensor(trump_images, dtype=tf.float32)\n",
    "x2 = conv(126)(x1)\n",
    "x3 = upscale(3)(x2)\n",
    "print(\"将大小为 {} 的图片传入 filters 为 126 的下采样层中得到大小为 {} 的图层。\".format(x1.shape, x2.shape))\n",
    "print(\"将大小为 {} 的图层传入 filters 为  3  的上采样层中得到大小为 {} 的图片。\".format(x2.shape, x3.shape))"
   ]
  },
  {
   "cell_type": "code",
   "execution_count": null,
   "metadata": {},
   "outputs": [],
   "source": []
  }
 ],
 "metadata": {
  "kernelspec": {
   "display_name": "Python 2",
   "language": "python",
   "name": "python2"
  },
  "language_info": {
   "codemirror_mode": {
    "name": "ipython",
    "version": 2
   },
   "file_extension": ".py",
   "mimetype": "text/x-python",
   "name": "python",
   "nbconvert_exporter": "python",
   "pygments_lexer": "ipython2",
   "version": "2.7.6"
  }
 },
 "nbformat": 4,
 "nbformat_minor": 0
}
